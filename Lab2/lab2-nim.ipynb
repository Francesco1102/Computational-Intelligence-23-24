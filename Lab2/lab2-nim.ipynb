{
 "cells": [
  {
   "cell_type": "code",
   "execution_count": 23,
   "metadata": {},
   "outputs": [],
   "source": [
    "import math\n",
    "import logging\n",
    "from pprint import pprint, pformat\n",
    "from collections import namedtuple\n",
    "import random\n",
    "from copy import deepcopy\n",
    "import numpy as np\n",
    "from dataclasses import dataclass\n",
    "from tqdm.auto import tqdm"
   ]
  },
  {
   "cell_type": "markdown",
   "metadata": {},
   "source": [
    "## The *Nim* and *Nimply* classes"
   ]
  },
  {
   "cell_type": "code",
   "execution_count": 24,
   "metadata": {},
   "outputs": [],
   "source": [
    "Nimply = namedtuple(\"Nimply\", \"row, num_objects\")\n",
    "#Rule = namedtuple(\"Rule\",\"description, p\")\n"
   ]
  },
  {
   "cell_type": "code",
   "execution_count": 25,
   "metadata": {},
   "outputs": [],
   "source": [
    "class Nim:\n",
    "    def __init__(self, num_rows: int, k: int = None) -> None:\n",
    "        self._rows = [i * 2 + 1 for i in range(num_rows)]\n",
    "        self._k = k\n",
    "\n",
    "    def __bool__(self):\n",
    "        return sum(self._rows) > 0\n",
    "\n",
    "    def __str__(self):\n",
    "        return \"<\" + \" \".join(str(_) for _ in self._rows) + \">\"\n",
    "\n",
    "    @property\n",
    "    def rows(self) -> tuple:\n",
    "        return tuple(self._rows)\n",
    "\n",
    "    def nimming(self, ply: Nimply) -> None:\n",
    "        row, num_objects = ply\n",
    "        assert self._rows[row] >= num_objects\n",
    "        assert self._k is None or num_objects <= self._k\n",
    "        self._rows[row] -= num_objects\n"
   ]
  },
  {
   "cell_type": "markdown",
   "metadata": {},
   "source": [
    "## Sample (and silly) startegies "
   ]
  },
  {
   "cell_type": "code",
   "execution_count": 26,
   "metadata": {},
   "outputs": [],
   "source": [
    "def pure_random(state: Nim) -> Nimply:\n",
    "    \"\"\"A completely random move\"\"\"\n",
    "    row = random.choice([r for r, c in enumerate(state.rows) if c > 0])\n",
    "    num_objects = random.randint(1, state.rows[row])\n",
    "    return Nimply(row, num_objects)\n"
   ]
  },
  {
   "cell_type": "code",
   "execution_count": 27,
   "metadata": {},
   "outputs": [],
   "source": [
    "def gabriele(state: Nim) -> Nimply:\n",
    "    \"\"\"Pick always the maximum possible number of the lowest row\"\"\"\n",
    "    possible_moves = [(r, o) for r, c in enumerate(state.rows) for o in range(1, c + 1)]\n",
    "    return Nimply(*max(possible_moves, key=lambda m: (-m[0], m[1])))\n"
   ]
  },
  {
   "cell_type": "markdown",
   "metadata": {},
   "source": [
    "# Optimal Strategies"
   ]
  },
  {
   "cell_type": "code",
   "execution_count": 28,
   "metadata": {},
   "outputs": [],
   "source": [
    "def nim_sum(state: Nim) -> int:\n",
    "    tmp = np.array([tuple(int(x) for x in f\"{c:032b}\") for c in state.rows])\n",
    "    xor = tmp.sum(axis=0) % 2\n",
    "    return int(\"\".join(str(_) for _ in xor), base=2)\n",
    "\n",
    "\n",
    "def analize(raw: Nim) -> dict:\n",
    "    cooked = dict()\n",
    "    cooked[\"possible_moves\"] = dict()\n",
    "    for ply in (Nimply(r, o) for r, c in enumerate(raw.rows) for o in range(1, c + 1)):\n",
    "        tmp = deepcopy(raw)\n",
    "        tmp.nimming(ply)\n",
    "        cooked[\"possible_moves\"][ply] = nim_sum(tmp)\n",
    "    return cooked\n",
    "\n",
    "\n",
    "def optimal(state: Nim) -> Nimply:\n",
    "    analysis = analize(state)\n",
    "    logging.debug(f\"analysis:\\n{pformat(analysis)}\")\n",
    "    spicy_moves = [ply for ply, ns in analysis[\"possible_moves\"].items() if ns != 0]\n",
    "    if not spicy_moves:\n",
    "        spicy_moves = list(analysis[\"possible_moves\"].keys())\n",
    "    ply = random.choice(spicy_moves)\n",
    "    return ply\n"
   ]
  },
  {
   "cell_type": "markdown",
   "metadata": {},
   "source": [
    "# ES Strategies"
   ]
  },
  {
   "cell_type": "code",
   "execution_count": 29,
   "metadata": {},
   "outputs": [],
   "source": [
    "N_DIM = 4\n",
    "TOT_CHALLENGERS = 3\n",
    "TOT_GAMES_PER_CHALLENGER = 30"
   ]
  },
  {
   "cell_type": "code",
   "execution_count": 30,
   "metadata": {},
   "outputs": [],
   "source": [
    "@dataclass\n",
    "class Rules:\n",
    "    rules : np.ndarray\n",
    "    n : float\n",
    "    def __init__(self,p1: float,p2: float,p3:float,p4:float) -> None:\n",
    "        #rule1(p1) = \"pick even matches that belong to a random row\"\n",
    "        #rule2(p2) = \"pick all matches except 1 from the row with lowest matches\"\n",
    "        #rule3(p3) = \"pick a half of object from the row with highest matches\"\n",
    "        #rule4(p4) = \"Try to maintain an even number of piles with an even number of objects and an odd number of piles with an odd number of objects\"\n",
    "        self.rules = np.array([p1,p2,p3,p4])\n",
    "        self.n = p1+p2+p3+p4\n",
    "\n",
    "    def select_rule(self) -> int:\n",
    "        num = random.uniform(0,self.n)\n",
    "        prob = 0\n",
    "        for i,r in enumerate(self.rules):\n",
    "            prob += r\n",
    "            if num < prob:\n",
    "                return i\n",
    "            \n",
    "    def modify(self,probs: np.ndarray):\n",
    "        self.rules += probs\n",
    "        self.rules =  np.maximum(self.rules, 0)\n",
    "        self.n = np.sum(self.rules)\n",
    "\n",
    "@dataclass\n",
    "class Individual:\n",
    "    fitness: float\n",
    "    genotype: Rules\n",
    "\n",
    "\n",
    "\n",
    "\n",
    "\n",
    "def rule1(state: Nim) -> Nimply:\n",
    "    #\"pick even matches that belong to a random row\"\n",
    "    rows = [r for r, c in enumerate(state.rows) if c > 1]\n",
    "    \n",
    "    if not rows:\n",
    "        row = random.choice([r for r, c in enumerate(state.rows) if c > 0])\n",
    "        num_objects = 1\n",
    "        return Nimply(row, num_objects)\n",
    "    row = random.choice(rows)\n",
    "    num_objects = random.choice([n for n in range(state.rows[row] + 1) if n%2 == 0])\n",
    "    return Nimply(row, num_objects)\n",
    "        \n",
    "def rule2(state: Nim) -> Nimply:\n",
    "    # \"pick all matches except 1 from the row with lowest matches\"\n",
    "    rows = [(r,c-1) for r, c in enumerate(state.rows) if c > 1]\n",
    "    \n",
    "    if not rows:\n",
    "        row = random.choice([r for r, c in enumerate(state.rows) if c > 0])\n",
    "        num_objects = random.randint(1, state.rows[row])\n",
    "        return Nimply(row, num_objects)\n",
    "    \n",
    "    play = min(rows,key= lambda x: x[1])\n",
    "    return Nimply(play[0],play[1])\n",
    "\n",
    "\n",
    "def rule3(state: Nim) -> Nimply:\n",
    "    #\"pick a half of object from the row with highest matches\"\n",
    "    rows = [(r,math.ceil(c / 2)) for r, c in enumerate(state.rows) if c > 0]\n",
    "    \n",
    "    play = max(rows,key= lambda x: x[1])\n",
    "    return Nimply(play[0],play[1])\n",
    "\n",
    "def rule4(state: Nim) -> Nimply:\n",
    "    #Try to maintain an even number of piles with an even number of objects and an odd number of piles with an odd number of objects\n",
    "    rows = [c%2==0 for c in state.rows]\n",
    "    n_even = sum(rows)\n",
    "    num_matches = 2 if n_even%2==0 else 1\n",
    "    possible_moves = [Nimply(r, o) for r, c in enumerate(state.rows) for o in range(num_matches, c + 1,2)]\n",
    "    if not possible_moves:\n",
    "        possible_moves = [Nimply(r,o) for r, c in enumerate(state.rows) for o in range(1, c+1)]\n",
    "    ply = random.choice(possible_moves)\n",
    "    return ply\n",
    "    \n",
    "def select_play(state: Nim,genotype: Rules) -> Nimply:\n",
    "    rule = genotype.select_rule()\n",
    "    #print(f\"choose rule {rule}\")\n",
    "    if rule == 0:\n",
    "        ply = rule1(state)\n",
    "    elif rule == 1:\n",
    "        ply = rule2(state)\n",
    "    elif rule == 2:\n",
    "        ply = rule3(state)\n",
    "    else:\n",
    "        ply = rule4(state)\n",
    "\n",
    "    return ply"
   ]
  },
  {
   "cell_type": "code",
   "execution_count": 31,
   "metadata": {},
   "outputs": [],
   "source": [
    "\n",
    "\n",
    "def play_game(strategy,player) -> bool:\n",
    "    nim = Nim(5)\n",
    "    while nim:\n",
    "        ply = strategy[player](nim)\n",
    "        nim.nimming(ply)\n",
    "        player = 1 - player\n",
    "    return player == 0\n",
    "\n",
    "def fitness(genotype: Rules) -> float:\n",
    "    tot = 0\n",
    "    wins = 0\n",
    "    weight = 1\n",
    "    challengers = [gabriele,pure_random,optimal]\n",
    "    eval_player = lambda nim: select_play(nim,genotype)\n",
    "    for i in range(TOT_CHALLENGERS):\n",
    "        #change weight cause win against optimal is more relevant that win against pure_random\n",
    "        for j in range(TOT_GAMES_PER_CHALLENGER):\n",
    "            if j%2 == 0:\n",
    "                wins += weight * play_game((eval_player,challengers[i]),0)\n",
    "            else:\n",
    "                wins += weight * play_game((eval_player,challengers[i]),1)\n",
    "        tot += TOT_GAMES_PER_CHALLENGER * weight\n",
    "        weight += 0.25\n",
    "    return wins/tot\n",
    "\n",
    "def mutation(ind: Individual,sigma: float) -> Individual:\n",
    "    mut = np.random.normal(loc = 0, scale = sigma, size=(N_DIM))\n",
    "    gen = deepcopy(ind.genotype)\n",
    "    gen.modify(mut)\n",
    "    fit = fitness(gen)  #already evaluated\n",
    "    return Individual(fit,gen)\n"
   ]
  },
  {
   "cell_type": "markdown",
   "metadata": {},
   "source": [
    "## (μ,λ)-es"
   ]
  },
  {
   "cell_type": "code",
   "execution_count": 32,
   "metadata": {},
   "outputs": [
    {
     "name": "stderr",
     "output_type": "stream",
     "text": [
      "100%|██████████| 100/100 [12:30<00:00,  7.51s/it]\n"
     ]
    }
   ],
   "source": [
    "\n",
    "# (μ,λ)-es\n",
    "μ = 5\n",
    "λ = 50\n",
    "mutation_per_parent = λ // μ\n",
    "σ = 0.5\n",
    "scale_sigma = 0.1\n",
    "population =  np.array([\n",
    "    Individual(0,Rules(random.random(),random.random(),random.random(),random.random()))\n",
    "    for _ in range(μ)\n",
    "])\n",
    "pop_sigma = np.ones((μ,)) * σ\n",
    "\n",
    "for p in population:\n",
    "    fit = fitness(p.genotype)\n",
    "    p.fitness = fit\n",
    "for n in tqdm(range(5000 // λ)):\n",
    "    indeces = np.random.randint(0, μ, size=(λ,))\n",
    "    tmp_pop = np.array([deepcopy(ind) for ind in population[indeces]])\n",
    "    tmp_pop_s = pop_sigma[indeces]\n",
    "    offspring = np.array([])\n",
    "    # mutate all sigma\n",
    "    tmp_pop_s = np.random.normal(loc = tmp_pop_s, scale = scale_sigma)\n",
    "    tmp_pop_s[tmp_pop_s < 1e-5] = 1e-5\n",
    "    offspring_sigma = tmp_pop_s\n",
    "\n",
    "    # parent's mutation\n",
    "    for i,t in enumerate(tmp_pop):\n",
    "        offspring = np.append(offspring,mutation(t,offspring_sigma[i]))\n",
    "    total_solutions = offspring       #np.append(population, offspring) to have μ+λ\n",
    "    total_sol_sigma = offspring_sigma #np.append(pop_sigma, offspring_sigma) to have μ+λ\n",
    "\n",
    "    #select new generation from total_solution\n",
    "    ind_sort = np.argsort(np.array([-x.fitness for x in total_solutions]))\n",
    "\n",
    "    population = total_solutions[ind_sort[:μ]]\n",
    "    pop_sigma = total_sol_sigma[ind_sort[:μ]]\n",
    "    #print(f\"sigma = {pop_sigma[0]}   fitness = {population[0].fitness}\")\n"
   ]
  },
  {
   "cell_type": "code",
   "execution_count": 33,
   "metadata": {},
   "outputs": [
    {
     "name": "stdout",
     "output_type": "stream",
     "text": [
      "array([Individual(fitness=0.8688888888888889, genotype=Rules(rules=array([ 0.        ,  1.05182712,  1.27379698, 44.28798357]), n=46.613607667980155)),\n",
      "       Individual(fitness=0.8511111111111112, genotype=Rules(rules=array([ 0.        ,  0.        ,  8.29296175, 42.06660686]), n=50.359568613533796)),\n",
      "       Individual(fitness=0.8222222222222222, genotype=Rules(rules=array([ 3.07957428,  0.        ,  0.62973075, 43.87007758]), n=47.57938261640372)),\n",
      "       Individual(fitness=0.82, genotype=Rules(rules=array([ 1.79785354,  0.        ,  2.34795249, 45.44327245]), n=49.589078479776944)),\n",
      "       Individual(fitness=0.8111111111111111, genotype=Rules(rules=array([ 0.68604728,  0.        ,  2.06408079, 46.95173312]), n=49.70186119087419))],\n",
      "      dtype=object)\n",
      "------------Optimal------------\n",
      "against Pure random 74/100 wins\n",
      "against Gabriele 90/100 wins\n",
      "against Optimal 51/100 wins\n",
      "0.7166666666666667\n",
      "----------My player----------\n",
      "against Pure random 80/100 wins\n",
      "against Gabriele 89/100 wins\n",
      "against Optimal 73/100 wins\n",
      "0.8066666666666666\n"
     ]
    }
   ],
   "source": [
    "pprint(population)\n",
    "\n",
    "print(\"-\"*12 + \"Optimal\" + \"-\"*12)\n",
    "challengers = [pure_random,gabriele,optimal]\n",
    "players = [\"Pure random\", \"Gabriele\", \"Optimal\"]\n",
    "eval_player = optimal\n",
    "totwins = 0\n",
    "for i in range(3):\n",
    "    wins = 0\n",
    "    for j in range(100):    \n",
    "        if j%2 == 0:\n",
    "            wins += play_game((eval_player,challengers[i]),0)\n",
    "        else:\n",
    "            wins += play_game((eval_player,challengers[i]),1)\n",
    "        \n",
    "    print(f\"against {players[i]} {wins}/100 wins\")\n",
    "    totwins += wins\n",
    "print(totwins / 300)\n",
    "\n",
    "\n",
    "print(\"-\"*10 + \"My player\" + \"-\"*10)\n",
    "challengers = [pure_random,gabriele,optimal]\n",
    "players = [\"Pure random\", \"Gabriele\", \"Optimal\"]\n",
    "eval_player = lambda nim: select_play(nim,population[0].genotype)\n",
    "totwins = 0\n",
    "for i in range(3):\n",
    "    wins = 0\n",
    "    for j in range(100):\n",
    "        if j%2 == 0:\n",
    "            wins += play_game((eval_player,challengers[i]),0)\n",
    "        else:\n",
    "            wins += play_game((eval_player,challengers[i]),1)\n",
    "    print(f\"against {players[i]} {wins}/100 wins\")\n",
    "    totwins += wins\n",
    "print(totwins / 300)\n",
    "\n"
   ]
  }
 ],
 "metadata": {
  "kernelspec": {
   "display_name": "Python 3.10.7 ('ci22-dPIXJ0_o-py3.10')",
   "language": "python",
   "name": "python3"
  },
  "language_info": {
   "codemirror_mode": {
    "name": "ipython",
    "version": 3
   },
   "file_extension": ".py",
   "mimetype": "text/x-python",
   "name": "python",
   "nbconvert_exporter": "python",
   "pygments_lexer": "ipython3",
   "version": "3.12.0"
  },
  "vscode": {
   "interpreter": {
    "hash": "10197e8e2f2aa67e2c349105091c77f4cd384fce4877865f002d9ec653f96bc0"
   }
  }
 },
 "nbformat": 4,
 "nbformat_minor": 2
}

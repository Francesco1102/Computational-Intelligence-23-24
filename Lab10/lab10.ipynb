{
 "cells": [
  {
   "cell_type": "markdown",
   "metadata": {},
   "source": [
    "Copyright **`(c)`** 2023 Giovanni Squillero `<giovanni.squillero@polito.it>`  \n",
    "[`https://github.com/squillero/computational-intelligence`](https://github.com/squillero/computational-intelligence)  \n",
    "Free for personal or classroom use; see [`LICENSE.md`](https://github.com/squillero/computational-intelligence/blob/master/LICENSE.md) for details.  "
   ]
  },
  {
   "cell_type": "markdown",
   "metadata": {},
   "source": [
    "# LAB10\n",
    "\n",
    "Use reinforcement learning to devise a tic-tac-toe player.\n",
    "\n",
    "### Deadlines:\n",
    "\n",
    "* Submission: Dies Natalis Solis Invicti ([CET](https://en.wikipedia.org/wiki/Sol_Invictus))\n",
    "* Reviews: Befana\n",
    "\n",
    "Notes:\n",
    "\n",
    "* Reviews will be assigned  on Monday, December 4\n",
    "* You need to commit in order to be selected as a reviewer (ie. better to commit an empty work than not to commit)"
   ]
  },
  {
   "cell_type": "code",
   "execution_count": 1,
   "metadata": {},
   "outputs": [
    {
     "name": "stderr",
     "output_type": "stream",
     "text": [
      "c:\\Users\\iplov\\Desktop\\CI 2023\\venv\\Lib\\site-packages\\tqdm\\auto.py:21: TqdmWarning: IProgress not found. Please update jupyter and ipywidgets. See https://ipywidgets.readthedocs.io/en/stable/user_install.html\n",
      "  from .autonotebook import tqdm as notebook_tqdm\n"
     ]
    }
   ],
   "source": [
    "from itertools import combinations\n",
    "from collections import namedtuple, defaultdict\n",
    "from random import choice\n",
    "import numpy as np\n",
    "from copy import deepcopy\n",
    "from tqdm.auto import tqdm"
   ]
  },
  {
   "cell_type": "code",
   "execution_count": 2,
   "metadata": {},
   "outputs": [],
   "source": [
    "State = namedtuple('Position',['x','o'])\n",
    "\n",
    "MAGIC = [2,7,6,\n",
    "         9,5,1,\n",
    "         4,3,8]\n",
    "\n",
    "SYMMETRIES = [[4,9,2,3,5,7,8,1,6],  #rotate 90°\n",
    "              [8,3,4,1,5,9,6,7,2],  #rotate 180°\n",
    "              [6,1,8,7,5,3,2,9,4],  #rotate 270°\n",
    "              [2,9,4,7,5,3,6,1,8],  #diagonal 1\n",
    "              [8,1,6,3,5,7,4,9,2],  #diagonal 2\n",
    "              [4,3,8,9,5,1,2,7,6],  #respect second row\n",
    "              [6,7,2,1,5,9,8,3,4]]  #respect second column"
   ]
  },
  {
   "cell_type": "code",
   "execution_count": 3,
   "metadata": {},
   "outputs": [],
   "source": [
    "def possible_plys(pos: State):\n",
    "    possible_moves = (set(range(1,10)) - pos.x) - pos.o\n",
    "    syms = []\n",
    "    plys = []\n",
    "    original_board = create_board(pos,MAGIC)\n",
    "    for sym in SYMMETRIES:\n",
    "        board = create_board(pos,sym)\n",
    "        if original_board == board:\n",
    "            syms.append(sym)\n",
    "    \n",
    "    while possible_moves:\n",
    "        ply = possible_moves.pop()\n",
    "        plys.append(ply)\n",
    "        index = MAGIC.index(ply)\n",
    "        for sym in syms:\n",
    "            ply = sym[index]\n",
    "            possible_moves.discard(ply)\n",
    "    return plys\n",
    "\n",
    "\n",
    "\n",
    "def print_board(pos):\n",
    "    \"\"\"Nicely prints the board\"\"\"\n",
    "    for r in range(3):\n",
    "        for c in range(3):\n",
    "            index = r *3 + c\n",
    "            if MAGIC[index] in pos.x:\n",
    "                print('X', end = '')\n",
    "            elif MAGIC[index] in pos.o:\n",
    "                print('O', end = '')\n",
    "            else:\n",
    "                print('_', end='')\n",
    "        print()\n",
    "    print()\n",
    "\n",
    "def create_board(pos,magic):\n",
    "    \"\"\"return the board\"\"\"\n",
    "    board = []\n",
    "    for r in range(3):\n",
    "        for c in range(3):\n",
    "            index = r *3 + c\n",
    "            if magic[index] in pos.x:\n",
    "                board.append(1)\n",
    "            elif magic[index] in pos.o:\n",
    "                board.append(-1)\n",
    "            else:\n",
    "                board.append(0)\n",
    "    return board\n",
    "\n",
    "def win(elements):\n",
    "    \"\"\"Checks is elements is winning\"\"\"\n",
    "    return any(sum(c) == 15 for c in combinations(elements,3))\n",
    "\n",
    "def win_in_one(elements, possible_plys):\n",
    "    wins = -1\n",
    "    for ply in possible_plys:\n",
    "        els = deepcopy(elements)\n",
    "        els.add(ply)\n",
    "        if win(els):\n",
    "            wins = ply\n",
    "            break\n",
    "    return wins \n",
    "\n",
    "def state_value(pos: State):\n",
    "    \"\"\"Evaluate state: +1 first player wins\"\"\"\n",
    "    if win(pos.x):\n",
    "        return 1\n",
    "    elif win(pos.o):\n",
    "        return -1\n",
    "    else:\n",
    "        return 0\n"
   ]
  },
  {
   "cell_type": "code",
   "execution_count": 4,
   "metadata": {},
   "outputs": [],
   "source": [
    "def random_game():\n",
    "    trajectory = list()\n",
    "    state = State(set(),set())\n",
    "    available = possible_plys(state)\n",
    "    while available:\n",
    "        ply = win_in_one(state.x,available)\n",
    "        x = ply if ply != -1 else choice(list(available))\n",
    "        state.x.add(x)\n",
    "        trajectory.append(deepcopy(state))\n",
    "        available = possible_plys(state)\n",
    "        if win(state.x) or not available:\n",
    "            break\n",
    "\n",
    "        ply = win_in_one(state.o,available)\n",
    "        o = ply if ply != -1 else choice(list(available))\n",
    "        state.o.add(o)\n",
    "        trajectory.append(deepcopy(state))\n",
    "        available = possible_plys(state)\n",
    "        if win(state.o):\n",
    "            break\n",
    "    return trajectory"
   ]
  },
  {
   "cell_type": "code",
   "execution_count": 5,
   "metadata": {},
   "outputs": [
    {
     "name": "stderr",
     "output_type": "stream",
     "text": [
      "  0%|          | 112/150000 [00:00<02:15, 1109.05it/s]"
     ]
    },
    {
     "name": "stderr",
     "output_type": "stream",
     "text": [
      "100%|██████████| 150000/150000 [01:31<00:00, 1647.41it/s]\n"
     ]
    }
   ],
   "source": [
    "value_dictionary = defaultdict(float)\n",
    "hit_state = defaultdict(int)\n",
    "epsilon = .01\n",
    "\n",
    "for steps in tqdm(range(150_000)):\n",
    "    trajectory = random_game()\n",
    "    final_reward = state_value(trajectory[-1])\n",
    "    for state in trajectory:\n",
    "        hashable_state = (frozenset(state.x), frozenset(state.o))\n",
    "        hit_state[hashable_state] += 1\n",
    "        value_dictionary[hashable_state] = value_dictionary[hashable_state] + epsilon * (final_reward - value_dictionary[hashable_state]) \n",
    "        "
   ]
  },
  {
   "cell_type": "code",
   "execution_count": 13,
   "metadata": {},
   "outputs": [
    {
     "name": "stdout",
     "output_type": "stream",
     "text": [
      "((frozenset({1, 5}), frozenset({2, 6})), 0.9999997880601903)\n",
      "O_O\n",
      "_XX\n",
      "___\n",
      "\n",
      "((frozenset({1, 2, 9}), frozenset({3, 5})), -0.9995373115349785)\n",
      "X__\n",
      "XOX\n",
      "_O_\n",
      "\n"
     ]
    }
   ],
   "source": [
    "a = list(filter(lambda e: state_value(State(e[0][0],e[0][1])) == 0,value_dictionary.items()))\n",
    "a = sorted(a,key = lambda e: e[1], reverse = True)\n",
    "ind=1\n",
    "pos = State(a[ind][0][0],a[ind][0][1])\n",
    "print(a[ind])\n",
    "print_board(pos)\n",
    "\n",
    "ind=-ind\n",
    "pos = State(a[ind][0][0],a[ind][0][1])\n",
    "print(a[ind])\n",
    "print_board(pos)\n"
   ]
  },
  {
   "cell_type": "code",
   "execution_count": 7,
   "metadata": {},
   "outputs": [],
   "source": [
    "def optimal_action_x(state):  #Agent for x\n",
    "    hashable_state = (frozenset(state.x), frozenset(state.o))\n",
    "    action_values = {action: value_dictionary.get((hashable_state[0] | {action}, hashable_state[1]), 0.0) for action in possible_plys(state)}\n",
    "    return max(action_values, key=action_values.get)\n",
    "\n",
    "def optimal_action_o(state):    #Agent for o\n",
    "    hashable_state = (frozenset(state.x), frozenset(state.o))\n",
    "    action_values = {action: value_dictionary.get((hashable_state[0], hashable_state[1] | {action}), 0.0) for action in possible_plys(state)}\n",
    "    return min(action_values, key=action_values.get)\n",
    "\n",
    "def play_game_o():\n",
    "    state = State(set(), set())\n",
    "    while True:\n",
    "        action = optimal_action_x(state)\n",
    "        state.x.add(action)\n",
    "        print_board(state)\n",
    "        if win(state.x):\n",
    "            print(state)\n",
    "            print(\"You lose!\")\n",
    "            break\n",
    "        elif len(state.x) + len(state.o) == 9:\n",
    "            print(\"Draw!\")\n",
    "            break\n",
    "        \n",
    "        while True:\n",
    "            plys = possible_plys(state)\n",
    "            print(f\"possible moves: {plys}\")\n",
    "            action = int(input(\"Insert your move: \"))\n",
    "            if action in plys:\n",
    "                break\n",
    "            print(\"You need to choose one of the possible moves\")\n",
    "        state.o.add(action)\n",
    "        print_board(state)\n",
    "        if win(state.o):\n",
    "            print(\"You win!\")\n",
    "            break\n",
    "\n",
    "def play_game_x():\n",
    "    state = State(set(), set())\n",
    "    while True:\n",
    "        while True:\n",
    "            plys = possible_plys(state)\n",
    "            print(f\"possible moves: {plys}\")\n",
    "            action = int(input(\"Insert your move: \"))\n",
    "            if action in plys:\n",
    "                break\n",
    "            print(\"You need to choose one of the possible moves\")\n",
    "        state.x.add(action)\n",
    "        print_board(state)\n",
    "        if win(state.x):\n",
    "            print(\"You win!\")\n",
    "            break\n",
    "        elif len(state.x) + len(state.o) == 9:\n",
    "            print(\"Draw!\")\n",
    "            break\n",
    "\n",
    "        action = optimal_action_o(state)\n",
    "        state.o.add(action)\n",
    "        print_board(state)\n",
    "        if win(state.o):\n",
    "            print(state)\n",
    "            print(\"You lose!\")\n",
    "            break"
   ]
  },
  {
   "cell_type": "code",
   "execution_count": 18,
   "metadata": {},
   "outputs": [
    {
     "name": "stdout",
     "output_type": "stream",
     "text": [
      "___\n",
      "_X_\n",
      "___\n",
      "\n",
      "possible moves: [1, 2]\n",
      "___\n",
      "_XO\n",
      "___\n",
      "\n",
      "__X\n",
      "_XO\n",
      "___\n",
      "\n",
      "possible moves: [2, 3, 4, 7, 8, 9]\n",
      "__X\n",
      "_XO\n",
      "O__\n",
      "\n",
      "X_X\n",
      "_XO\n",
      "O__\n",
      "\n",
      "possible moves: [8, 9, 3, 7]\n",
      "XOX\n",
      "_XO\n",
      "O__\n",
      "\n",
      "XOX\n",
      "_XO\n",
      "O_X\n",
      "\n",
      "Position(x={8, 2, 5, 6}, o={1, 4, 7})\n",
      "You lose!\n"
     ]
    }
   ],
   "source": [
    "play_game_o()"
   ]
  },
  {
   "cell_type": "code",
   "execution_count": 57,
   "metadata": {},
   "outputs": [
    {
     "name": "stdout",
     "output_type": "stream",
     "text": [
      "possible moves: [1, 2, 5]\n",
      "___\n",
      "_X_\n",
      "___\n",
      "\n",
      "O__\n",
      "_X_\n",
      "___\n",
      "\n",
      "possible moves: [1, 4, 7, 8]\n",
      "O__\n",
      "_X_\n",
      "__X\n",
      "\n",
      "O__\n",
      "_X_\n",
      "O_X\n",
      "\n",
      "possible moves: [1, 3, 6, 7, 9]\n",
      "O__\n",
      "XX_\n",
      "O_X\n",
      "\n",
      "O__\n",
      "XXO\n",
      "O_X\n",
      "\n",
      "possible moves: [3, 6, 7]\n",
      "OX_\n",
      "XXO\n",
      "O_X\n",
      "\n",
      "OX_\n",
      "XXO\n",
      "OOX\n",
      "\n",
      "possible moves: [6]\n",
      "OXX\n",
      "XXO\n",
      "OOX\n",
      "\n",
      "Draw!\n"
     ]
    }
   ],
   "source": [
    "play_game_x()"
   ]
  }
 ],
 "metadata": {
  "kernelspec": {
   "display_name": "ci-fLJ3OwGs-py3.12",
   "language": "python",
   "name": "python3"
  },
  "language_info": {
   "codemirror_mode": {
    "name": "ipython",
    "version": 3
   },
   "file_extension": ".py",
   "mimetype": "text/x-python",
   "name": "python",
   "nbconvert_exporter": "python",
   "pygments_lexer": "ipython3",
   "version": "3.12.0"
  }
 },
 "nbformat": 4,
 "nbformat_minor": 2
}

{
 "cells": [
  {
   "cell_type": "code",
   "execution_count": 41,
   "metadata": {},
   "outputs": [],
   "source": [
    "from itertools import product\n",
    "from random import random, randint, shuffle, seed, choices\n",
    "import numpy as np\n",
    "from scipy import sparse\n",
    "from copy import copy\n",
    "from functools import reduce"
   ]
  },
  {
   "cell_type": "code",
   "execution_count": 42,
   "metadata": {},
   "outputs": [],
   "source": [
    "def make_set_covering_problem(num_points, num_sets, density):\n",
    "    \"\"\"Returns a sparse array where rows are sets and columns are the covered items\"\"\"\n",
    "    seed(num_points*2654435761+num_sets+density)\n",
    "    sets = sparse.lil_array((num_sets, num_points), dtype=bool)\n",
    "    for s, p in product(range(num_sets), range(num_points)):\n",
    "        if random() < density:\n",
    "            sets[s, p] = True\n",
    "    for p in range(num_points):\n",
    "        sets[randint(0, num_sets-1), p] = True\n",
    "    return sets"
   ]
  },
  {
   "cell_type": "markdown",
   "metadata": {},
   "source": [
    "# Halloween Challenge\n",
    "Find the best solution with the fewest calls to the fitness functions for:\n",
    "* `num_points = [100, 1_000, 5_000]`\n",
    "* `num_sets = num_points`\n",
    "* `density = [.3, .7]` "
   ]
  },
  {
   "cell_type": "code",
   "execution_count": 246,
   "metadata": {},
   "outputs": [
    {
     "name": "stdout",
     "output_type": "stream",
     "text": [
      "Element at row=42 and column=42: True\n"
     ]
    }
   ],
   "source": [
    "NUM_POINTS = NUM_SETS = 1000\n",
    "x = make_set_covering_problem(NUM_POINTS, NUM_SETS, .7)\n",
    "print(\"Element at row=42 and column=42:\", x[42, 42])\n",
    "set1 = x[[0], :].toarray()\n",
    "set2 = x[[1], :].toarray()\n"
   ]
  },
  {
   "cell_type": "code",
   "execution_count": 223,
   "metadata": {},
   "outputs": [],
   "source": [
    "def covered(state):\n",
    "    return np.sum(\n",
    "        reduce(\n",
    "            np.logical_or,\n",
    "            [x[[i],:].toarray() for i,taken in enumerate(state) if taken],\n",
    "            np.array([False for _ in range(NUM_SETS)])))\n",
    "\n",
    "def tweak(state):\n",
    "    new_state = copy(state)\n",
    "    index = randint(0, NUM_SETS - 1)\n",
    "    new_state[index] = not new_state[index]\n",
    "    return new_state\n",
    "\n",
    "def fitness(state):\n",
    "    cost = sum(state)\n",
    "    num_values_covered = covered(state)\n",
    "    return num_values_covered, -cost"
   ]
  },
  {
   "cell_type": "code",
   "execution_count": 247,
   "metadata": {},
   "outputs": [
    {
     "name": "stdout",
     "output_type": "stream",
     "text": [
      "(0, 0)\n",
      "Solution found with 639 fitness call and using 5 SETS\n"
     ]
    }
   ],
   "source": [
    "starting_state = [random() < 0 for _ in range(NUM_SETS)]\n",
    "best = fitness(starting_state)\n",
    "print(fitness(starting_state))\n",
    "state = starting_state\n",
    "\n",
    "for i in range(2000):\n",
    "    new_state = tweak(state)\n",
    "    new = fitness(new_state)\n",
    "    if new >= best:\n",
    "        best = new\n",
    "        state = new_state\n",
    "        #print(fitness(state))\n",
    "        count_fitness = i + 1\n",
    "\n",
    "_,n_sets = fitness(state)\n",
    "print(f\"Solution found with {count_fitness} fitness call and using {-n_sets} SETS\")\n"
   ]
  },
  {
   "cell_type": "markdown",
   "metadata": {},
   "source": [
    "# Simulated Annealing"
   ]
  },
  {
   "cell_type": "code",
   "execution_count": 225,
   "metadata": {},
   "outputs": [],
   "source": [
    "def f(n,sets):\n",
    "    if sets == 0:\n",
    "        return 0\n",
    "    else:\n",
    "        return n ** 3/2 - sets"
   ]
  },
  {
   "cell_type": "code",
   "execution_count": 248,
   "metadata": {},
   "outputs": [
    {
     "name": "stdout",
     "output_type": "stream",
     "text": [
      "(0, 0)\n",
      "Solution found with 3179 fitness call and using 5 SETS\n",
      "1000\n"
     ]
    }
   ],
   "source": [
    "starting_state = [random() < 0 for _ in range(NUM_SETS)]\n",
    "c = 0 #counter\n",
    "\n",
    "t_0 = 100\n",
    "t = t_0\n",
    "final_t = 1e-20\n",
    "alpha = 0.95\n",
    "\n",
    "print(fitness(starting_state))\n",
    "state = starting_state\n",
    "for k in range(20000):\n",
    "    c += 1\n",
    "    \n",
    "    new_state = tweak(state)\n",
    "    f_new = fitness(new_state)\n",
    "    f_old = fitness(state)\n",
    "    fn = f(f_new[0],-f_new[1])\n",
    "    fo = f(f_old[0],-f_old[1])\n",
    "    if fn >= fo:\n",
    "        state = new_state\n",
    "        #print(fitness(state))\n",
    "        count_fitness = k+1\n",
    "        c = 0\n",
    "    elif t > 0:\n",
    "        \n",
    "        p = np.exp(-(fo-fn) / t)\n",
    "        if random() < p:\n",
    "            state = new_state\n",
    "            count_fitness = k+1\n",
    "            c = 0\n",
    "            #print(f\"{p} && {t} && {(fo-fn)}----{fitness(state)}\")\n",
    "            #print(f\"-{fitness(state)}\")\n",
    "    if t > final_t:\n",
    "        t *= alpha\n",
    "        \n",
    "\n",
    "n,n_sets = fitness(state)\n",
    "print(f\"Solution found with {count_fitness} fitness call and using {-n_sets} SETS\")\n",
    "print(n)\n"
   ]
  },
  {
   "cell_type": "code",
   "execution_count": 48,
   "metadata": {},
   "outputs": [
    {
     "data": {
      "text/plain": [
       "100"
      ]
     },
     "execution_count": 48,
     "metadata": {},
     "output_type": "execute_result"
    }
   ],
   "source": [
    "covered(state)"
   ]
  },
  {
   "cell_type": "markdown",
   "metadata": {},
   "source": []
  }
 ],
 "metadata": {
  "kernelspec": {
   "display_name": "venv",
   "language": "python",
   "name": "python3"
  },
  "language_info": {
   "codemirror_mode": {
    "name": "ipython",
    "version": 3
   },
   "file_extension": ".py",
   "mimetype": "text/x-python",
   "name": "python",
   "nbconvert_exporter": "python",
   "pygments_lexer": "ipython3",
   "version": "3.12.0"
  }
 },
 "nbformat": 4,
 "nbformat_minor": 2
}
